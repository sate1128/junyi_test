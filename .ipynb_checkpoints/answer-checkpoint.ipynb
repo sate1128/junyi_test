{
 "cells": [
  {
   "cell_type": "markdown",
   "metadata": {},
   "source": [
    "#1(A)"
   ]
  },
  {
   "cell_type": "code",
   "execution_count": 16,
   "metadata": {},
   "outputs": [
    {
     "data": {
      "text/plain": [
       "'ymedacaiynuj'"
      ]
     },
     "execution_count": 16,
     "metadata": {},
     "output_type": "execute_result"
    }
   ],
   "source": [
    "def stringReverse(s):\n",
    "    return s[::-1]\n",
    "stringReverse('junyiacademy')"
   ]
  },
  {
   "cell_type": "markdown",
   "metadata": {},
   "source": [
    "#1(B)"
   ]
  },
  {
   "cell_type": "code",
   "execution_count": 18,
   "metadata": {},
   "outputs": [
    {
     "data": {
      "text/plain": [
       "'deppilf ssalc moor si tnatropmi'"
      ]
     },
     "execution_count": 18,
     "metadata": {},
     "output_type": "execute_result"
    }
   ],
   "source": [
    "def sentenceReverse(s):\n",
    "    s = s.split(' ')\n",
    "    output = ''\n",
    "    for i in s:\n",
    "        i = stringReverse(i)\n",
    "        output += i\n",
    "        output += ' '\n",
    "    return output[:-1]\n",
    "sentenceReverse('flipped class room is important')"
   ]
  },
  {
   "cell_type": "markdown",
   "metadata": {},
   "source": [
    "#2"
   ]
  },
  {
   "cell_type": "code",
   "execution_count": 21,
   "metadata": {},
   "outputs": [
    {
     "data": {
      "text/plain": [
       "9"
      ]
     },
     "execution_count": 21,
     "metadata": {},
     "output_type": "execute_result"
    }
   ],
   "source": [
    "def number(num):\n",
    "    answer = []\n",
    "    for i in range(1,num+1):\n",
    "        if i % 15 == 0:\n",
    "            answer.append(i)\n",
    "        elif (i % 5 !=0) and (i % 3 != 0):\n",
    "            answer.append(i)\n",
    "    return len(answer)\n",
    "number(15)"
   ]
  },
  {
   "cell_type": "markdown",
   "metadata": {},
   "source": [
    "#3\n",
    "\n",
    "選擇標示是“混合”的袋子即可分辨三個袋子的內容物。\n",
    "\n",
    "因為標示“混合”的袋子標示是錯的，所以內容物一定是“鉛筆”或是“原子筆”，當選擇標示“混合”，若發現拿到的是鉛筆則此袋必為“鉛筆”，其餘兩袋因標示是錯誤的，因此標示“鉛筆”的必定是“原子筆”，標示”原子筆“的必定是”混合“。反之若在標示”混合“袋拿到原子筆同理可得其餘兩代內容物。"
   ]
  },
  {
   "cell_type": "markdown",
   "metadata": {},
   "source": [
    "#4\n",
    "\n",
    "這題的等式是錯誤的。\n",
    "\n",
    "三人原本要付250*3=750元，但是被服務生拿走60元所以才變成付750+60=810元。因此被服務生拿走的錢應該要算在三人付的810元之中，而不是810+60總和等於900元。如果要求出原本900元的流向，那就會是250*3(三人原本付的)+60(服務生拿的)+90(找回來的錢)=900元"
   ]
  },
  {
   "cell_type": "code",
   "execution_count": null,
   "metadata": {},
   "outputs": [],
   "source": []
  }
 ],
 "metadata": {
  "kernelspec": {
   "display_name": "Python 3",
   "language": "python",
   "name": "python3"
  },
  "language_info": {
   "codemirror_mode": {
    "name": "ipython",
    "version": 3
   },
   "file_extension": ".py",
   "mimetype": "text/x-python",
   "name": "python",
   "nbconvert_exporter": "python",
   "pygments_lexer": "ipython3",
   "version": "3.6.2"
  }
 },
 "nbformat": 4,
 "nbformat_minor": 2
}
